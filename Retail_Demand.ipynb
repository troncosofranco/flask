{
  "nbformat": 4,
  "nbformat_minor": 0,
  "metadata": {
    "colab": {
      "provenance": [],
      "authorship_tag": "ABX9TyN5UQoLtRbWXeq738jjJv1r",
      "include_colab_link": true
    },
    "kernelspec": {
      "name": "python3",
      "display_name": "Python 3"
    },
    "language_info": {
      "name": "python"
    }
  },
  "cells": [
    {
      "cell_type": "markdown",
      "metadata": {
        "id": "view-in-github",
        "colab_type": "text"
      },
      "source": [
        "<a href=\"https://colab.research.google.com/github/troncosofranco/flask/blob/main/Retail_Demand.ipynb\" target=\"_parent\"><img src=\"https://colab.research.google.com/assets/colab-badge.svg\" alt=\"Open In Colab\"/></a>"
      ]
    },
    {
      "cell_type": "markdown",
      "source": [
        "#0. Introduction\n",
        "The objective of this project is to create an interactive web application to predict rental demand using regression model. The dataset has been provided by the UCI Machine Learning Repository \n",
        "of the University of California, Irvine. The dataset contains information about bike rental demand over time and \n",
        "under different environmental factors, being the objective predict future demand. \n",
        "\n",
        "The dataset contains the following features:\n",
        "- **instant:** record index.\n",
        "- **dteday:** date.\n",
        "- **season:** season (1: spring, 2: summer, 3: fall, 4: winter).\n",
        "- **yr:** year (0: 2011, 1:2012).\n",
        "- **mnth:** month (1 to 12).\n",
        "- **hr:** hour (0 to 23).\n",
        "- **holiday:** whether day is holiday or not.\n",
        "- **weekday:** day of the week.\n",
        "- **workingday:** weekend nor holiday it is 1, otherwise it is 0.\n",
        "- **weathersit:** \n",
        "  - 1: Clear, Few clouds, Partly cloudy. \n",
        "  - 2: Mist + Cloudy, Mist + Broken clouds, Mist + Few clouds, Mist. \n",
        "  - 3: Light Snow, Light Rain + Thunderstorm + Scattered clouds, Light Rain + Scattered clouds.\n",
        "  - 4: Heavy Rain + Ice Pallets + Thunderstorm + Mist, Snow + Fog.\n",
        "- **temp:** Normalized temperature in Celsius. The values are derived via (t-t_min)/(t_max-t_min), t_min = -8, t_max = +39 (only in hourly scale).\n",
        "- **atemp:** Normalized feeling temperature in Celsius. The values are derived via (t-t_min)/(t_max-t_min), t_min = -16, t_max = +50 (only in hourly scale).\n",
        "- **hum:** Normalized humidity: The values are divided by 100 (max).\n",
        "- **windspeed:** Normalized wind speed: The values are divided by 67 (max).\n",
        "- **casual:** count of casual users registered count of registered users.\n",
        "- **cnt:** count of total rental bikes including both casual and registered."
      ],
      "metadata": {
        "id": "Ziydt80CGOWz"
      }
    },
    {
      "cell_type": "markdown",
      "source": [
        "#1. Import modules"
      ],
      "metadata": {
        "id": "z0wSh1vNyUr5"
      }
    },
    {
      "cell_type": "code",
      "source": [
        "%matplotlib inline\n",
        "import pandas as pd\n",
        "import numpy as np\n",
        "import matplotlib.pyplot as plt\n",
        "import pickle\n",
        "import warnings\n",
        "import seaborn as sns\n",
        "warnings.filterwarnings('ignore')\n",
        "\n",
        "from sklearn.model_selection import train_test_split\n",
        "from sklearn.metrics import mean_squared_error, r2_score\n",
        "from math import sqrt"
      ],
      "metadata": {
        "id": "gFZ31iR1yXSA"
      },
      "execution_count": null,
      "outputs": []
    },
    {
      "cell_type": "markdown",
      "source": [
        "#2. Load Data"
      ],
      "metadata": {
        "id": "sdpzVXsszAzs"
      }
    },
    {
      "cell_type": "code",
      "source": [
        "bikes_hour_df_raw = pd.read_csv('hour.csv')\n",
        "bikes_day_df_raw = pd.read_csv('day.csv')"
      ],
      "metadata": {
        "id": "T4Giu3bxzC36"
      },
      "execution_count": null,
      "outputs": []
    },
    {
      "cell_type": "markdown",
      "source": [
        "#3. Explore data"
      ],
      "metadata": {
        "id": "Tk0d6gN7zfGv"
      }
    },
    {
      "cell_type": "code",
      "source": [
        "bikes_hour_df_raw.head()"
      ],
      "metadata": {
        "colab": {
          "base_uri": "https://localhost:8080/",
          "height": 206
        },
        "id": "67PZDdn7zgso",
        "outputId": "66e9c14c-a714-4450-cc83-a8877c3b6945"
      },
      "execution_count": null,
      "outputs": [
        {
          "output_type": "execute_result",
          "data": {
            "text/plain": [
              "   instant      dteday  season  yr  mnth  hr  holiday  weekday  workingday  \\\n",
              "0        1  2011-01-01       1   0     1   0        0        6           0   \n",
              "1        2  2011-01-01       1   0     1   1        0        6           0   \n",
              "2        3  2011-01-01       1   0     1   2        0        6           0   \n",
              "3        4  2011-01-01       1   0     1   3        0        6           0   \n",
              "4        5  2011-01-01       1   0     1   4        0        6           0   \n",
              "\n",
              "   weathersit  temp   atemp   hum  windspeed  casual  registered  cnt  \n",
              "0           1  0.24  0.2879  0.81        0.0       3          13   16  \n",
              "1           1  0.22  0.2727  0.80        0.0       8          32   40  \n",
              "2           1  0.22  0.2727  0.80        0.0       5          27   32  \n",
              "3           1  0.24  0.2879  0.75        0.0       3          10   13  \n",
              "4           1  0.24  0.2879  0.75        0.0       0           1    1  "
            ],
            "text/html": [
              "\n",
              "  <div id=\"df-9dd3b1fe-d282-4512-9d68-0a77be6021b3\">\n",
              "    <div class=\"colab-df-container\">\n",
              "      <div>\n",
              "<style scoped>\n",
              "    .dataframe tbody tr th:only-of-type {\n",
              "        vertical-align: middle;\n",
              "    }\n",
              "\n",
              "    .dataframe tbody tr th {\n",
              "        vertical-align: top;\n",
              "    }\n",
              "\n",
              "    .dataframe thead th {\n",
              "        text-align: right;\n",
              "    }\n",
              "</style>\n",
              "<table border=\"1\" class=\"dataframe\">\n",
              "  <thead>\n",
              "    <tr style=\"text-align: right;\">\n",
              "      <th></th>\n",
              "      <th>instant</th>\n",
              "      <th>dteday</th>\n",
              "      <th>season</th>\n",
              "      <th>yr</th>\n",
              "      <th>mnth</th>\n",
              "      <th>hr</th>\n",
              "      <th>holiday</th>\n",
              "      <th>weekday</th>\n",
              "      <th>workingday</th>\n",
              "      <th>weathersit</th>\n",
              "      <th>temp</th>\n",
              "      <th>atemp</th>\n",
              "      <th>hum</th>\n",
              "      <th>windspeed</th>\n",
              "      <th>casual</th>\n",
              "      <th>registered</th>\n",
              "      <th>cnt</th>\n",
              "    </tr>\n",
              "  </thead>\n",
              "  <tbody>\n",
              "    <tr>\n",
              "      <th>0</th>\n",
              "      <td>1</td>\n",
              "      <td>2011-01-01</td>\n",
              "      <td>1</td>\n",
              "      <td>0</td>\n",
              "      <td>1</td>\n",
              "      <td>0</td>\n",
              "      <td>0</td>\n",
              "      <td>6</td>\n",
              "      <td>0</td>\n",
              "      <td>1</td>\n",
              "      <td>0.24</td>\n",
              "      <td>0.2879</td>\n",
              "      <td>0.81</td>\n",
              "      <td>0.0</td>\n",
              "      <td>3</td>\n",
              "      <td>13</td>\n",
              "      <td>16</td>\n",
              "    </tr>\n",
              "    <tr>\n",
              "      <th>1</th>\n",
              "      <td>2</td>\n",
              "      <td>2011-01-01</td>\n",
              "      <td>1</td>\n",
              "      <td>0</td>\n",
              "      <td>1</td>\n",
              "      <td>1</td>\n",
              "      <td>0</td>\n",
              "      <td>6</td>\n",
              "      <td>0</td>\n",
              "      <td>1</td>\n",
              "      <td>0.22</td>\n",
              "      <td>0.2727</td>\n",
              "      <td>0.80</td>\n",
              "      <td>0.0</td>\n",
              "      <td>8</td>\n",
              "      <td>32</td>\n",
              "      <td>40</td>\n",
              "    </tr>\n",
              "    <tr>\n",
              "      <th>2</th>\n",
              "      <td>3</td>\n",
              "      <td>2011-01-01</td>\n",
              "      <td>1</td>\n",
              "      <td>0</td>\n",
              "      <td>1</td>\n",
              "      <td>2</td>\n",
              "      <td>0</td>\n",
              "      <td>6</td>\n",
              "      <td>0</td>\n",
              "      <td>1</td>\n",
              "      <td>0.22</td>\n",
              "      <td>0.2727</td>\n",
              "      <td>0.80</td>\n",
              "      <td>0.0</td>\n",
              "      <td>5</td>\n",
              "      <td>27</td>\n",
              "      <td>32</td>\n",
              "    </tr>\n",
              "    <tr>\n",
              "      <th>3</th>\n",
              "      <td>4</td>\n",
              "      <td>2011-01-01</td>\n",
              "      <td>1</td>\n",
              "      <td>0</td>\n",
              "      <td>1</td>\n",
              "      <td>3</td>\n",
              "      <td>0</td>\n",
              "      <td>6</td>\n",
              "      <td>0</td>\n",
              "      <td>1</td>\n",
              "      <td>0.24</td>\n",
              "      <td>0.2879</td>\n",
              "      <td>0.75</td>\n",
              "      <td>0.0</td>\n",
              "      <td>3</td>\n",
              "      <td>10</td>\n",
              "      <td>13</td>\n",
              "    </tr>\n",
              "    <tr>\n",
              "      <th>4</th>\n",
              "      <td>5</td>\n",
              "      <td>2011-01-01</td>\n",
              "      <td>1</td>\n",
              "      <td>0</td>\n",
              "      <td>1</td>\n",
              "      <td>4</td>\n",
              "      <td>0</td>\n",
              "      <td>6</td>\n",
              "      <td>0</td>\n",
              "      <td>1</td>\n",
              "      <td>0.24</td>\n",
              "      <td>0.2879</td>\n",
              "      <td>0.75</td>\n",
              "      <td>0.0</td>\n",
              "      <td>0</td>\n",
              "      <td>1</td>\n",
              "      <td>1</td>\n",
              "    </tr>\n",
              "  </tbody>\n",
              "</table>\n",
              "</div>\n",
              "      <button class=\"colab-df-convert\" onclick=\"convertToInteractive('df-9dd3b1fe-d282-4512-9d68-0a77be6021b3')\"\n",
              "              title=\"Convert this dataframe to an interactive table.\"\n",
              "              style=\"display:none;\">\n",
              "        \n",
              "  <svg xmlns=\"http://www.w3.org/2000/svg\" height=\"24px\"viewBox=\"0 0 24 24\"\n",
              "       width=\"24px\">\n",
              "    <path d=\"M0 0h24v24H0V0z\" fill=\"none\"/>\n",
              "    <path d=\"M18.56 5.44l.94 2.06.94-2.06 2.06-.94-2.06-.94-.94-2.06-.94 2.06-2.06.94zm-11 1L8.5 8.5l.94-2.06 2.06-.94-2.06-.94L8.5 2.5l-.94 2.06-2.06.94zm10 10l.94 2.06.94-2.06 2.06-.94-2.06-.94-.94-2.06-.94 2.06-2.06.94z\"/><path d=\"M17.41 7.96l-1.37-1.37c-.4-.4-.92-.59-1.43-.59-.52 0-1.04.2-1.43.59L10.3 9.45l-7.72 7.72c-.78.78-.78 2.05 0 2.83L4 21.41c.39.39.9.59 1.41.59.51 0 1.02-.2 1.41-.59l7.78-7.78 2.81-2.81c.8-.78.8-2.07 0-2.86zM5.41 20L4 18.59l7.72-7.72 1.47 1.35L5.41 20z\"/>\n",
              "  </svg>\n",
              "      </button>\n",
              "      \n",
              "  <style>\n",
              "    .colab-df-container {\n",
              "      display:flex;\n",
              "      flex-wrap:wrap;\n",
              "      gap: 12px;\n",
              "    }\n",
              "\n",
              "    .colab-df-convert {\n",
              "      background-color: #E8F0FE;\n",
              "      border: none;\n",
              "      border-radius: 50%;\n",
              "      cursor: pointer;\n",
              "      display: none;\n",
              "      fill: #1967D2;\n",
              "      height: 32px;\n",
              "      padding: 0 0 0 0;\n",
              "      width: 32px;\n",
              "    }\n",
              "\n",
              "    .colab-df-convert:hover {\n",
              "      background-color: #E2EBFA;\n",
              "      box-shadow: 0px 1px 2px rgba(60, 64, 67, 0.3), 0px 1px 3px 1px rgba(60, 64, 67, 0.15);\n",
              "      fill: #174EA6;\n",
              "    }\n",
              "\n",
              "    [theme=dark] .colab-df-convert {\n",
              "      background-color: #3B4455;\n",
              "      fill: #D2E3FC;\n",
              "    }\n",
              "\n",
              "    [theme=dark] .colab-df-convert:hover {\n",
              "      background-color: #434B5C;\n",
              "      box-shadow: 0px 1px 3px 1px rgba(0, 0, 0, 0.15);\n",
              "      filter: drop-shadow(0px 1px 2px rgba(0, 0, 0, 0.3));\n",
              "      fill: #FFFFFF;\n",
              "    }\n",
              "  </style>\n",
              "\n",
              "      <script>\n",
              "        const buttonEl =\n",
              "          document.querySelector('#df-9dd3b1fe-d282-4512-9d68-0a77be6021b3 button.colab-df-convert');\n",
              "        buttonEl.style.display =\n",
              "          google.colab.kernel.accessAllowed ? 'block' : 'none';\n",
              "\n",
              "        async function convertToInteractive(key) {\n",
              "          const element = document.querySelector('#df-9dd3b1fe-d282-4512-9d68-0a77be6021b3');\n",
              "          const dataTable =\n",
              "            await google.colab.kernel.invokeFunction('convertToInteractive',\n",
              "                                                     [key], {});\n",
              "          if (!dataTable) return;\n",
              "\n",
              "          const docLinkHtml = 'Like what you see? Visit the ' +\n",
              "            '<a target=\"_blank\" href=https://colab.research.google.com/notebooks/data_table.ipynb>data table notebook</a>'\n",
              "            + ' to learn more about interactive tables.';\n",
              "          element.innerHTML = '';\n",
              "          dataTable['output_type'] = 'display_data';\n",
              "          await google.colab.output.renderOutput(dataTable, element);\n",
              "          const docLink = document.createElement('div');\n",
              "          docLink.innerHTML = docLinkHtml;\n",
              "          element.appendChild(docLink);\n",
              "        }\n",
              "      </script>\n",
              "    </div>\n",
              "  </div>\n",
              "  "
            ]
          },
          "metadata": {},
          "execution_count": 3
        }
      ]
    },
    {
      "cell_type": "markdown",
      "source": [
        "Removing useless features for our goal."
      ],
      "metadata": {
        "id": "0fP_cZd908co"
      }
    },
    {
      "cell_type": "code",
      "source": [
        "bikes_hour_df = bikes_hour_df_raw.drop(['casual', 'registered'], axis=1)"
      ],
      "metadata": {
        "id": "CWS00dbb1EEV"
      },
      "execution_count": null,
      "outputs": []
    },
    {
      "cell_type": "markdown",
      "source": [
        "Getting information about features."
      ],
      "metadata": {
        "id": "Q8_WWYLO1HHl"
      }
    },
    {
      "cell_type": "code",
      "source": [
        "bikes_hour_df.info()"
      ],
      "metadata": {
        "colab": {
          "base_uri": "https://localhost:8080/"
        },
        "id": "c27_XBOy1KEM",
        "outputId": "f4cf44e1-5372-4cdb-c5e0-5f4982a09022"
      },
      "execution_count": null,
      "outputs": [
        {
          "output_type": "stream",
          "name": "stdout",
          "text": [
            "<class 'pandas.core.frame.DataFrame'>\n",
            "RangeIndex: 17379 entries, 0 to 17378\n",
            "Data columns (total 15 columns):\n",
            " #   Column      Non-Null Count  Dtype  \n",
            "---  ------      --------------  -----  \n",
            " 0   instant     17379 non-null  int64  \n",
            " 1   dteday      17379 non-null  object \n",
            " 2   season      17379 non-null  int64  \n",
            " 3   yr          17379 non-null  int64  \n",
            " 4   mnth        17379 non-null  int64  \n",
            " 5   hr          17379 non-null  int64  \n",
            " 6   holiday     17379 non-null  int64  \n",
            " 7   weekday     17379 non-null  int64  \n",
            " 8   workingday  17379 non-null  int64  \n",
            " 9   weathersit  17379 non-null  int64  \n",
            " 10  temp        17379 non-null  float64\n",
            " 11  atemp       17379 non-null  float64\n",
            " 12  hum         17379 non-null  float64\n",
            " 13  windspeed   17379 non-null  float64\n",
            " 14  cnt         17379 non-null  int64  \n",
            "dtypes: float64(4), int64(10), object(1)\n",
            "memory usage: 2.0+ MB\n"
          ]
        }
      ]
    },
    {
      "cell_type": "markdown",
      "source": [
        "**Observation:** No missing values were found."
      ],
      "metadata": {
        "id": "FNR6mhig1tkb"
      }
    },
    {
      "cell_type": "markdown",
      "source": [
        "Explore the target label 'cnt'."
      ],
      "metadata": {
        "id": "BDxZGUSY16ZL"
      }
    },
    {
      "cell_type": "code",
      "source": [
        "bikes_hour_df['cnt'].describe()"
      ],
      "metadata": {
        "colab": {
          "base_uri": "https://localhost:8080/"
        },
        "id": "r4fcNy0f3nmt",
        "outputId": "f5c5bfcc-7ebc-45ab-d6db-e8c2e41e3c26"
      },
      "execution_count": null,
      "outputs": [
        {
          "output_type": "execute_result",
          "data": {
            "text/plain": [
              "count    17379.000000\n",
              "mean       189.463088\n",
              "std        181.387599\n",
              "min          1.000000\n",
              "25%         40.000000\n",
              "50%        142.000000\n",
              "75%        281.000000\n",
              "max        977.000000\n",
              "Name: cnt, dtype: float64"
            ]
          },
          "metadata": {},
          "execution_count": 6
        }
      ]
    },
    {
      "cell_type": "markdown",
      "source": [
        "**Observation:** The label “cnt” ranges between a minimum of 1 and maximum of 977 counts. The average rental count is 189.5 units."
      ],
      "metadata": {
        "id": "9VSdoAQL32Ud"
      }
    },
    {
      "cell_type": "markdown",
      "source": [
        "##3.1. Quantitative Features vs. Rental Counts"
      ],
      "metadata": {
        "id": "2CXvjN1v4TxL"
      }
    },
    {
      "cell_type": "markdown",
      "source": [
        "Rental Counts vs. Temperature"
      ],
      "metadata": {
        "id": "5y4kSpHr4pIa"
      }
    },
    {
      "cell_type": "code",
      "source": [
        "sns.jointplot(x=bikes_hour_df['temp'], y=bikes_hour_df['cnt'], cmap=\"Blues\", shade=True, kind='kde')\n",
        "plt.show()"
      ],
      "metadata": {
        "colab": {
          "base_uri": "https://localhost:8080/",
          "height": 441
        },
        "id": "xAoDNsfZ6P7H",
        "outputId": "7bc30bb4-7dd8-4b10-d15d-31b7105ef5ea"
      },
      "execution_count": null,
      "outputs": [
        {
          "output_type": "display_data",
          "data": {
            "text/plain": [
              "<Figure size 432x432 with 3 Axes>"
            ],
            "image/png": "[encoded data removed]"
          },
          "metadata": {
            "needs_background": "light"
          }
        }
      ]
    },
    {
      "cell_type": "markdown",
      "source": [
        "Rental Counts Vs Feeling temperature"
      ],
      "metadata": {
        "id": "E-Llp9Zy7S41"
      }
    },
    {
      "cell_type": "code",
      "source": [
        "sns.jointplot(x=bikes_hour_df['atemp'], y=bikes_hour_df['cnt'], cmap=\"Blues\", shade=True, kind='kde')\n",
        "plt.show()"
      ],
      "metadata": {
        "colab": {
          "base_uri": "https://localhost:8080/",
          "height": 441
        },
        "id": "EFGsMS0J6_D8",
        "outputId": "21cc0465-ded5-492b-d4c8-119b2930764f"
      },
      "execution_count": null,
      "outputs": [
        {
          "output_type": "display_data",
          "data": {
            "text/plain": [
              "<Figure size 432x432 with 3 Axes>"
            ],
            "image/png": "[encoded data removed]"
          },
          "metadata": {
            "needs_background": "light"
          }
        }
      ]
    },
    {
      "cell_type": "markdown",
      "source": [
        "Rental Counts Vs Normalized humidity"
      ],
      "metadata": {
        "id": "v8wkxote7u4S"
      }
    },
    {
      "cell_type": "code",
      "source": [
        "sns.jointplot(x=bikes_hour_df['hum'], y=bikes_hour_df['cnt'], cmap=\"Blues\", shade=True, kind='kde')\n",
        "plt.show()\n",
        "\n",
        "\n"
      ],
      "metadata": {
        "colab": {
          "base_uri": "https://localhost:8080/",
          "height": 441
        },
        "id": "EGMvROJi9A7_",
        "outputId": "574221d2-17cf-43c0-b1cf-1ffc29c0257f"
      },
      "execution_count": null,
      "outputs": [
        {
          "output_type": "display_data",
          "data": {
            "text/plain": [
              "<Figure size 432x432 with 3 Axes>"
            ],
            "image/png": "[encoded data removed]"
          },
          "metadata": {
            "needs_background": "light"
          }
        }
      ]
    },
    {
      "cell_type": "markdown",
      "source": [
        "Rental Counts Vs Wind Speed."
      ],
      "metadata": {
        "id": "fy-qtU_R_E1D"
      }
    },
    {
      "cell_type": "code",
      "source": [
        "sns.jointplot(x=bikes_hour_df['windspeed'], y=bikes_hour_df['cnt'], cmap=\"Blues\", shade=True, kind='kde')\n",
        "plt.show()"
      ],
      "metadata": {
        "id": "PY5X6_f1_Z-q",
        "outputId": "f9f3da67-5a5b-46ff-a894-0f30ae8a13f3",
        "colab": {
          "base_uri": "https://localhost:8080/",
          "height": 441
        }
      },
      "execution_count": null,
      "outputs": [
        {
          "output_type": "display_data",
          "data": {
            "text/plain": [
              "<Figure size 432x432 with 3 Axes>"
            ],
            "image/png": "[encoded data removed]"
          },
          "metadata": {
            "needs_background": "light"
          }
        }
      ]
    },
    {
      "cell_type": "markdown",
      "source": [
        "##3.2. Categorical Features Vs Rental Counts"
      ],
      "metadata": {
        "id": "YuFJC_nUAR0I"
      }
    },
    {
      "cell_type": "code",
      "source": [
        "# Season\n",
        "f,  (ax1, ax2)  =  plt.subplots(nrows=1, ncols=2, figsize=(13, 6))\n",
        "ax1 = bikes_hour_df[['season','cnt']].groupby(['season']).sum().reset_index().plot(kind='bar',\n",
        "                                       legend = False, title =\"Bike rentals count  by season\", \n",
        "                                         stacked=True, fontsize=12, ax=ax1)\n",
        "ax1.set_xlabel(\"season\", fontsize=12)\n",
        "ax1.set_ylabel(\"Bike Rental Count\", fontsize=12)\n",
        "ax1.set_xticklabels(['spring','sumer','fall','winter'])\n",
        "\n",
        "\n",
        "# Weathersit \n",
        "ax2 = bikes_hour_df[['weathersit','cnt']].groupby(['weathersit']).sum().reset_index().plot(kind='bar',  \n",
        "      legend = False, stacked=True, title =\"Counts of Bike Rentals by weathersit\", fontsize=12, ax=ax2)\n",
        "\n",
        "ax2.set_xlabel(\"weathersit\", fontsize=12)\n",
        "ax2.set_ylabel(\"Count\", fontsize=12)\n",
        "ax2.set_xticklabels(['1: Clear','2: Mist','3: Light Snow','4: Heavy Rain'])\n",
        "f.tight_layout()"
      ],
      "metadata": {
        "colab": {
          "base_uri": "https://localhost:8080/",
          "height": 441
        },
        "id": "Gynoge6QAyaZ",
        "outputId": "a4161066-a967-4048-ac2a-4f98161a21d0"
      },
      "execution_count": null,
      "outputs": [
        {
          "output_type": "display_data",
          "data": {
            "text/plain": [
              "<Figure size 936x432 with 2 Axes>"
            ],
            "image/png": "[encoded data removed]"
          },
          "metadata": {
            "needs_background": "light"
          }
        }
      ]
    },
    {
      "cell_type": "markdown",
      "source": [
        "Rental Counts Vs Time"
      ],
      "metadata": {
        "id": "h4DhcvcGEwgz"
      }
    },
    {
      "cell_type": "code",
      "source": [
        "ax = bikes_hour_df[['hr','cnt']].groupby(['hr']).sum().reset_index().plot(kind='bar', figsize=(8, 6),\n",
        "                                       legend = False, title =\"Total Bike Rentals by Hour\", \n",
        "                                       color='blue', fontsize=12)\n",
        "ax.set_xlabel(\"Hour\", fontsize=12)\n",
        "ax.set_ylabel(\"Bike Rental Count\", fontsize=12)\n",
        "plt.show()"
      ],
      "metadata": {
        "colab": {
          "base_uri": "https://localhost:8080/",
          "height": 412
        },
        "id": "79gpviDWE5ti",
        "outputId": "1bbecaf4-a19d-4ac6-c1b5-4f97fe06b825"
      },
      "execution_count": null,
      "outputs": [
        {
          "output_type": "display_data",
          "data": {
            "text/plain": [
              "<Figure size 576x432 with 1 Axes>"
            ],
            "image/png": "[encoded data removed]"
          },
          "metadata": {
            "needs_background": "light"
          }
        }
      ]
    },
    {
      "cell_type": "code",
      "source": [
        "ax = bikes_hour_df[['mnth','cnt']].groupby(['mnth']).sum().reset_index().plot(kind='bar', figsize=(8, 6),\n",
        "                                       legend = False, title =\"Sum of Counts by Month\", \n",
        "                                       color='blue', fontsize=12)\n",
        "ax.set_xlabel(\"Month\", fontsize=12)\n",
        "ax.set_ylabel(\"Bike Rental Count\", fontsize=12)\n",
        "plt.show()"
      ],
      "metadata": {
        "colab": {
          "base_uri": "https://localhost:8080/",
          "height": 412
        },
        "id": "XYRr5Bv0GwsX",
        "outputId": "98cc7d69-4b3f-4315-92f0-a03018278052"
      },
      "execution_count": null,
      "outputs": [
        {
          "output_type": "display_data",
          "data": {
            "text/plain": [
              "<Figure size 576x432 with 1 Axes>"
            ],
            "image/png": "[encoded data removed]"
          },
          "metadata": {
            "needs_background": "light"
          }
        }
      ]
    },
    {
      "cell_type": "markdown",
      "source": [
        "**Observation:** “temp” and “atemp” features show similar distributions and may present redundancy and even multicollinearity. Thus, “atemp” will drop. Bike rental counts cover a broad range of humidity. On ther other hand, feature “windspeed”  show an inverse linear relationship with rentals. The bike rental counts decrease on windy days.The highest rental counts was observed at 17 h, showing a broad range between 12 and 19 h. At 8 h, the bike rental counts is relatively high. On the other hand, the highest bike rental counts were observed between april and august. \n"
      ],
      "metadata": {
        "id": "olRAF-I6Cg-b"
      }
    },
    {
      "cell_type": "markdown",
      "source": [
        "#4. Model \n",
        "\n",
        "##4.1. Linear regression"
      ],
      "metadata": {
        "id": "gTb4IcflIKya"
      }
    },
    {
      "cell_type": "markdown",
      "source": [
        "Make a copy for editing without affecting original."
      ],
      "metadata": {
        "id": "_Kk8HEC3Ilgd"
      }
    },
    {
      "cell_type": "code",
      "source": [
        "bike_df_model = bikes_hour_df.copy()"
      ],
      "metadata": {
        "id": "yUGTwxmfIr94"
      },
      "execution_count": null,
      "outputs": []
    },
    {
      "cell_type": "markdown",
      "source": [
        "Define features and target label"
      ],
      "metadata": {
        "id": "Zd12AHhIIuhe"
      }
    },
    {
      "cell_type": "code",
      "source": [
        "target = 'cnt'\n",
        "\n",
        "# create a feature list for each modeling\n",
        "features = [feat for feat in list(bike_df_model) if feat not in [target, 'instant', 'dteday']]"
      ],
      "metadata": {
        "id": "41Dw-_6JI4Yz"
      },
      "execution_count": null,
      "outputs": []
    },
    {
      "cell_type": "markdown",
      "source": [
        "Split data into train and test portions and model."
      ],
      "metadata": {
        "id": "Lpz-IsNxJT0C"
      }
    },
    {
      "cell_type": "code",
      "source": [
        "X_train, X_test, y_train, y_test = train_test_split(bike_df_model[features], bike_df_model[['cnt']], \n",
        "                                                 test_size=0.2, random_state=2020)"
      ],
      "metadata": {
        "id": "l2WOQr07JXhx"
      },
      "execution_count": null,
      "outputs": []
    },
    {
      "cell_type": "markdown",
      "source": [
        "Linear Regression model"
      ],
      "metadata": {
        "id": "tKCvJhDnJpuO"
      }
    },
    {
      "cell_type": "code",
      "source": [
        "from sklearn import linear_model\n",
        "model_lr = linear_model.LinearRegression()\n",
        " \n",
        "# train the model on training set\n",
        "model_lr.fit(X_train, y_train)\n",
        "\n",
        "# make predictions using the testing set\n",
        "predictions = model_lr.predict(X_test)\n",
        "\n",
        "# root mean squared error\n",
        "print(\"Root Mean squared error: %.2f\" % sqrt(mean_squared_error(y_test, predictions)))"
      ],
      "metadata": {
        "colab": {
          "base_uri": "https://localhost:8080/"
        },
        "id": "_UGbvq1GIIiB",
        "outputId": "b6fd29d1-7e24-4e05-c491-13cfcbea7f58"
      },
      "execution_count": null,
      "outputs": [
        {
          "output_type": "stream",
          "name": "stdout",
          "text": [
            "Root Mean squared error: 141.96\n"
          ]
        }
      ]
    },
    {
      "cell_type": "markdown",
      "source": [
        "##4.2. Second degree polynomial\n"
      ],
      "metadata": {
        "id": "yWoMLk80cZaa"
      }
    },
    {
      "cell_type": "code",
      "source": [
        "from sklearn.preprocessing import PolynomialFeatures\n",
        "poly = PolynomialFeatures(2)\n",
        "X_train = poly.fit_transform(X_train)\n",
        "X_test = poly.fit_transform(X_test)\n",
        "\n",
        "from sklearn import linear_model\n",
        "model_lr = linear_model.LinearRegression()\n",
        " \n",
        "model_lr.fit(X_train, y_train)\n",
        "\n",
        "# make predictions using the testing set\n",
        "predictions = model_lr.predict(X_test)\n",
        " \n",
        "# root mean squared error\n",
        "print(\"Root Mean squared error with PolynomialFeatures set to 2 degrees: %.2f\" \n",
        "      % sqrt(mean_squared_error(y_test, predictions)))"
      ],
      "metadata": {
        "colab": {
          "base_uri": "https://localhost:8080/"
        },
        "id": "RT0ncQxRc3oM",
        "outputId": "39922904-a673-4970-d67e-b9fc162edbe3"
      },
      "execution_count": null,
      "outputs": [
        {
          "output_type": "stream",
          "name": "stdout",
          "text": [
            "Root Mean squared error with PolynomialFeatures set to 2 degrees: 121.54\n"
          ]
        }
      ]
    },
    {
      "cell_type": "markdown",
      "source": [
        "##4.3. Third degree polynomial"
      ],
      "metadata": {
        "id": "3UtM52Bmcpcf"
      }
    },
    {
      "cell_type": "code",
      "source": [
        "# make a copy for editing without affecting original\n",
        "bike_df_model_ready = bikes_hour_df.copy()\n",
        "\n",
        "outcome = 'cnt'\n",
        "# create a feature list for eash modeling - experiment by adding features to the exclusion list\n",
        "features = [feat for feat in list(bike_df_model_ready) if feat not in [outcome, 'instant', 'dteday']]  \n",
        "\n",
        "# split data into train and test portions and model\n",
        "X_train, X_test, y_train, y_test = train_test_split(bike_df_model_ready[features], \n",
        "                                                 bike_df_model_ready[['cnt']], \n",
        "                                                 test_size=0.2, random_state=42)\n",
        "\n",
        "from sklearn.preprocessing import PolynomialFeatures\n",
        "poly = PolynomialFeatures(3)\n",
        "X_train = poly.fit_transform(X_train)\n",
        "X_test = poly.fit_transform(X_test)\n",
        " \n",
        "from sklearn import linear_model\n",
        "model_lr = linear_model.LinearRegression()\n",
        " \n",
        "# train the model on training set\n",
        "model_lr.fit(X_train, y_train)\n",
        "\n",
        "# make predictions using the testing set\n",
        "predictions = model_lr.predict(X_test)\n",
        " \n",
        "# root mean squared error\n",
        "print(\"Root Mean squared error with PolynomialFeatures set to 3 degrees: %.2f\" \n",
        "      % sqrt(mean_squared_error(y_test, predictions)))"
      ],
      "metadata": {
        "colab": {
          "base_uri": "https://localhost:8080/"
        },
        "id": "Cb5bz9DsdQiX",
        "outputId": "140c11a6-334c-4894-de09-ee765d9d86ca"
      },
      "execution_count": null,
      "outputs": [
        {
          "output_type": "stream",
          "name": "stdout",
          "text": [
            "Root Mean squared error with PolynomialFeatures set to 3 degrees: 108.74\n"
          ]
        }
      ]
    },
    {
      "cell_type": "markdown",
      "source": [
        "##4.4. Dummy Features from Categorical Data\n",
        "\n",
        "From “weathersit” will be created four new columns: “clear,” “mist,” “snow,” and “rain” and assign each a binary true/false value."
      ],
      "metadata": {
        "id": "DAi_yIOydzZ0"
      }
    },
    {
      "cell_type": "code",
      "source": [
        "def get_dummy(raw_dataframe, target_columns, drop_first = False, make_na_col = True):\n",
        "    \n",
        "    dataframe_dummy = pd.get_dummies(raw_dataframe, columns=target_columns, \n",
        "                                     drop_first=drop_first, \n",
        "                                     dummy_na=make_na_col)\n",
        "    return (dataframe_dummy) "
      ],
      "metadata": {
        "id": "p94xGMcofLBN"
      },
      "execution_count": null,
      "outputs": []
    },
    {
      "cell_type": "markdown",
      "source": [
        "Linear Regression"
      ],
      "metadata": {
        "id": "EZCMMamHhA8M"
      }
    },
    {
      "cell_type": "code",
      "source": [
        "bike_df_model = bike_df_model.sort_values('instant')\n",
        "\n",
        "bike_df_model = get_dummy(bike_df_model, target_columns = ['season', 'weekday', 'weathersit'], drop_first = True)\n",
        "\n",
        "# remove the nan colums in dataframe \n",
        "bike_df_model = bike_df_model.dropna() \n",
        "\n",
        "\n",
        "X_train, X_test, y_train, y_test = train_test_split(bike_df_model_ready[features], \n",
        "                                                 bike_df_model_ready[['cnt']], \n",
        "                                                 test_size=0.2, \n",
        "                                                 random_state=42)\n",
        "from sklearn import linear_model\n",
        "model_lr = linear_model.LinearRegression()\n",
        " \n",
        "# train the model on training set\n",
        "model_lr.fit(X_train, y_train)\n",
        "\n",
        "# make predictions using the testing set\n",
        "predictions = model_lr.predict(X_test)\n",
        " \n",
        "# print coefficients as this is what our web application will use in the end\n",
        "print('Coefficients: \\n', model_lr.coef_)\n",
        "\n",
        "# root mean squared error\n",
        "print(\"Root Mean squared error: %.2f\" % sqrt(mean_squared_error(y_test, predictions)))"
      ],
      "metadata": {
        "colab": {
          "base_uri": "https://localhost:8080/"
        },
        "id": "O0Hs1COHfgVY",
        "outputId": "de9086ec-9ea0-4c3c-87d9-8c12c42b083a"
      },
      "execution_count": null,
      "outputs": [
        {
          "output_type": "stream",
          "name": "stdout",
          "text": [
            "Coefficients: \n",
            " [[ 2.05179924e+01  8.28448751e+01  1.19190430e-01  7.66249868e+00\n",
            "  -2.41182267e+01  1.77763984e+00  3.90418826e+00 -3.43318981e+00\n",
            "   9.90484375e+01  2.04992854e+02 -1.99467977e+02  3.44906487e+01]]\n",
            "Root Mean squared error: 139.21\n"
          ]
        }
      ]
    },
    {
      "cell_type": "markdown",
      "source": [
        "Gradient Boosting Regressor (GBM)"
      ],
      "metadata": {
        "id": "nY4WIYfJhE2a"
      }
    },
    {
      "cell_type": "code",
      "source": [
        "from sklearn.ensemble import GradientBoostingRegressor\n",
        "model_gbr = GradientBoostingRegressor()\n",
        "model_gbr.fit(X_train, np.ravel(y_train))\n",
        "predictions = model_gbr.predict(X_test)\n",
        "print(\"Root Mean squared error: %.2f\" % sqrt(mean_squared_error(y_test, \n",
        "predictions)))"
      ],
      "metadata": {
        "colab": {
          "base_uri": "https://localhost:8080/"
        },
        "id": "urOH2VeDhHvd",
        "outputId": "62c8faf1-d03d-4ecb-997b-f7f2db9647f3"
      },
      "execution_count": null,
      "outputs": [
        {
          "output_type": "stream",
          "name": "stdout",
          "text": [
            "Root Mean squared error: 69.06\n"
          ]
        }
      ]
    },
    {
      "cell_type": "markdown",
      "source": [
        "##4.5. Time Modeling\n",
        "\n",
        "Keep track of the previous hour's count and use that as a feature for the model."
      ],
      "metadata": {
        "id": "98pRBO0DiEqC"
      }
    },
    {
      "cell_type": "code",
      "source": [
        "bikes_hour_df_shift = bikes_hour_df[['dteday','hr','cnt']].groupby(['dteday','hr']).sum().reset_index()\n",
        "bikes_hour_df_shift.sort_values(['dteday','hr'])"
      ],
      "metadata": {
        "colab": {
          "base_uri": "https://localhost:8080/",
          "height": 423
        },
        "id": "ndXFVT49iI7v",
        "outputId": "13e5240a-bf22-4530-becf-071326d22102"
      },
      "execution_count": null,
      "outputs": [
        {
          "output_type": "execute_result",
          "data": {
            "text/plain": [
              "           dteday  hr  cnt\n",
              "0      2011-01-01   0   16\n",
              "1      2011-01-01   1   40\n",
              "2      2011-01-01   2   32\n",
              "3      2011-01-01   3   13\n",
              "4      2011-01-01   4    1\n",
              "...           ...  ..  ...\n",
              "17374  2012-12-31  19  119\n",
              "17375  2012-12-31  20   89\n",
              "17376  2012-12-31  21   90\n",
              "17377  2012-12-31  22   61\n",
              "17378  2012-12-31  23   49\n",
              "\n",
              "[17379 rows x 3 columns]"
            ],
            "text/html": [
              "\n",
              "  <div id=\"df-00287e7a-652d-4f8f-bcd1-760b53f77f6c\">\n",
              "    <div class=\"colab-df-container\">\n",
              "      <div>\n",
              "<style scoped>\n",
              "    .dataframe tbody tr th:only-of-type {\n",
              "        vertical-align: middle;\n",
              "    }\n",
              "\n",
              "    .dataframe tbody tr th {\n",
              "        vertical-align: top;\n",
              "    }\n",
              "\n",
              "    .dataframe thead th {\n",
              "        text-align: right;\n",
              "    }\n",
              "</style>\n",
              "<table border=\"1\" class=\"dataframe\">\n",
              "  <thead>\n",
              "    <tr style=\"text-align: right;\">\n",
              "      <th></th>\n",
              "      <th>dteday</th>\n",
              "      <th>hr</th>\n",
              "      <th>cnt</th>\n",
              "    </tr>\n",
              "  </thead>\n",
              "  <tbody>\n",
              "    <tr>\n",
              "      <th>0</th>\n",
              "      <td>2011-01-01</td>\n",
              "      <td>0</td>\n",
              "      <td>16</td>\n",
              "    </tr>\n",
              "    <tr>\n",
              "      <th>1</th>\n",
              "      <td>2011-01-01</td>\n",
              "      <td>1</td>\n",
              "      <td>40</td>\n",
              "    </tr>\n",
              "    <tr>\n",
              "      <th>2</th>\n",
              "      <td>2011-01-01</td>\n",
              "      <td>2</td>\n",
              "      <td>32</td>\n",
              "    </tr>\n",
              "    <tr>\n",
              "      <th>3</th>\n",
              "      <td>2011-01-01</td>\n",
              "      <td>3</td>\n",
              "      <td>13</td>\n",
              "    </tr>\n",
              "    <tr>\n",
              "      <th>4</th>\n",
              "      <td>2011-01-01</td>\n",
              "      <td>4</td>\n",
              "      <td>1</td>\n",
              "    </tr>\n",
              "    <tr>\n",
              "      <th>...</th>\n",
              "      <td>...</td>\n",
              "      <td>...</td>\n",
              "      <td>...</td>\n",
              "    </tr>\n",
              "    <tr>\n",
              "      <th>17374</th>\n",
              "      <td>2012-12-31</td>\n",
              "      <td>19</td>\n",
              "      <td>119</td>\n",
              "    </tr>\n",
              "    <tr>\n",
              "      <th>17375</th>\n",
              "      <td>2012-12-31</td>\n",
              "      <td>20</td>\n",
              "      <td>89</td>\n",
              "    </tr>\n",
              "    <tr>\n",
              "      <th>17376</th>\n",
              "      <td>2012-12-31</td>\n",
              "      <td>21</td>\n",
              "      <td>90</td>\n",
              "    </tr>\n",
              "    <tr>\n",
              "      <th>17377</th>\n",
              "      <td>2012-12-31</td>\n",
              "      <td>22</td>\n",
              "      <td>61</td>\n",
              "    </tr>\n",
              "    <tr>\n",
              "      <th>17378</th>\n",
              "      <td>2012-12-31</td>\n",
              "      <td>23</td>\n",
              "      <td>49</td>\n",
              "    </tr>\n",
              "  </tbody>\n",
              "</table>\n",
              "<p>17379 rows × 3 columns</p>\n",
              "</div>\n",
              "      <button class=\"colab-df-convert\" onclick=\"convertToInteractive('df-00287e7a-652d-4f8f-bcd1-760b53f77f6c')\"\n",
              "              title=\"Convert this dataframe to an interactive table.\"\n",
              "              style=\"display:none;\">\n",
              "        \n",
              "  <svg xmlns=\"http://www.w3.org/2000/svg\" height=\"24px\"viewBox=\"0 0 24 24\"\n",
              "       width=\"24px\">\n",
              "    <path d=\"M0 0h24v24H0V0z\" fill=\"none\"/>\n",
              "    <path d=\"M18.56 5.44l.94 2.06.94-2.06 2.06-.94-2.06-.94-.94-2.06-.94 2.06-2.06.94zm-11 1L8.5 8.5l.94-2.06 2.06-.94-2.06-.94L8.5 2.5l-.94 2.06-2.06.94zm10 10l.94 2.06.94-2.06 2.06-.94-2.06-.94-.94-2.06-.94 2.06-2.06.94z\"/><path d=\"M17.41 7.96l-1.37-1.37c-.4-.4-.92-.59-1.43-.59-.52 0-1.04.2-1.43.59L10.3 9.45l-7.72 7.72c-.78.78-.78 2.05 0 2.83L4 21.41c.39.39.9.59 1.41.59.51 0 1.02-.2 1.41-.59l7.78-7.78 2.81-2.81c.8-.78.8-2.07 0-2.86zM5.41 20L4 18.59l7.72-7.72 1.47 1.35L5.41 20z\"/>\n",
              "  </svg>\n",
              "      </button>\n",
              "      \n",
              "  <style>\n",
              "    .colab-df-container {\n",
              "      display:flex;\n",
              "      flex-wrap:wrap;\n",
              "      gap: 12px;\n",
              "    }\n",
              "\n",
              "    .colab-df-convert {\n",
              "      background-color: #E8F0FE;\n",
              "      border: none;\n",
              "      border-radius: 50%;\n",
              "      cursor: pointer;\n",
              "      display: none;\n",
              "      fill: #1967D2;\n",
              "      height: 32px;\n",
              "      padding: 0 0 0 0;\n",
              "      width: 32px;\n",
              "    }\n",
              "\n",
              "    .colab-df-convert:hover {\n",
              "      background-color: #E2EBFA;\n",
              "      box-shadow: 0px 1px 2px rgba(60, 64, 67, 0.3), 0px 1px 3px 1px rgba(60, 64, 67, 0.15);\n",
              "      fill: #174EA6;\n",
              "    }\n",
              "\n",
              "    [theme=dark] .colab-df-convert {\n",
              "      background-color: #3B4455;\n",
              "      fill: #D2E3FC;\n",
              "    }\n",
              "\n",
              "    [theme=dark] .colab-df-convert:hover {\n",
              "      background-color: #434B5C;\n",
              "      box-shadow: 0px 1px 3px 1px rgba(0, 0, 0, 0.15);\n",
              "      filter: drop-shadow(0px 1px 2px rgba(0, 0, 0, 0.3));\n",
              "      fill: #FFFFFF;\n",
              "    }\n",
              "  </style>\n",
              "\n",
              "      <script>\n",
              "        const buttonEl =\n",
              "          document.querySelector('#df-00287e7a-652d-4f8f-bcd1-760b53f77f6c button.colab-df-convert');\n",
              "        buttonEl.style.display =\n",
              "          google.colab.kernel.accessAllowed ? 'block' : 'none';\n",
              "\n",
              "        async function convertToInteractive(key) {\n",
              "          const element = document.querySelector('#df-00287e7a-652d-4f8f-bcd1-760b53f77f6c');\n",
              "          const dataTable =\n",
              "            await google.colab.kernel.invokeFunction('convertToInteractive',\n",
              "                                                     [key], {});\n",
              "          if (!dataTable) return;\n",
              "\n",
              "          const docLinkHtml = 'Like what you see? Visit the ' +\n",
              "            '<a target=\"_blank\" href=https://colab.research.google.com/notebooks/data_table.ipynb>data table notebook</a>'\n",
              "            + ' to learn more about interactive tables.';\n",
              "          element.innerHTML = '';\n",
              "          dataTable['output_type'] = 'display_data';\n",
              "          await google.colab.output.renderOutput(dataTable, element);\n",
              "          const docLink = document.createElement('div');\n",
              "          docLink.innerHTML = docLinkHtml;\n",
              "          element.appendChild(docLink);\n",
              "        }\n",
              "      </script>\n",
              "    </div>\n",
              "  </div>\n",
              "  "
            ]
          },
          "metadata": {},
          "execution_count": 26
        }
      ]
    },
    {
      "cell_type": "markdown",
      "source": [
        "Shift the count of the last two hours forward so the new count can take in consideration how the last two hours performed."
      ],
      "metadata": {
        "id": "uU0lLeiHjBz7"
      }
    },
    {
      "cell_type": "code",
      "source": [
        "bikes_hour_df_shift['sum_hr_shift_1'] = bikes_hour_df_shift.cnt.shift(+1)\n",
        "bikes_hour_df_shift['sum_hr_shift_2'] = bikes_hour_df_shift.cnt.shift(+2)"
      ],
      "metadata": {
        "id": "HXMEHpcujPmN"
      },
      "execution_count": null,
      "outputs": []
    },
    {
      "cell_type": "markdown",
      "source": [
        "Merge the date and hour counts back."
      ],
      "metadata": {
        "id": "BiMygxEmjUKC"
      }
    },
    {
      "cell_type": "code",
      "source": [
        "bike_df_model = pd.merge(bikes_hour_df, bikes_hour_df_shift[['dteday', 'hr', 'sum_hr_shift_1', 'sum_hr_shift_2']], how='inner', \n",
        "on = ['dteday', 'hr'])"
      ],
      "metadata": {
        "id": "jGEGbtzfjemR"
      },
      "execution_count": null,
      "outputs": []
    },
    {
      "cell_type": "markdown",
      "source": [
        "Drop missing values generated by shifting fields around."
      ],
      "metadata": {
        "id": "q9vqp17ijurr"
      }
    },
    {
      "cell_type": "code",
      "source": [
        "bike_df_model = bike_df_model.dropna()"
      ],
      "metadata": {
        "id": "ALkJsVchj7IJ"
      },
      "execution_count": null,
      "outputs": []
    },
    {
      "cell_type": "markdown",
      "source": [
        "Gradient Boosting Regressor (GBM)"
      ],
      "metadata": {
        "id": "FUcTSSEBkPkN"
      }
    },
    {
      "cell_type": "code",
      "source": [
        "target = 'cnt'\n",
        "# create a feature list for each modeling - experiment by adding features to the exclusion list\n",
        "features = [feat for feat in list(bike_df_model_ready) if feat not in [target, 'instant', 'dteday','casual', 'registered']]  \n",
        "\n",
        "X_train, X_test, y_train, y_test = train_test_split(bike_df_model_ready[features], \n",
        "                                                 bike_df_model_ready[['cnt']], \n",
        "                                                 test_size=0.3, random_state=42)\n",
        "from sklearn.ensemble import GradientBoostingRegressor\n",
        "model_gbr = GradientBoostingRegressor()\n",
        "model_gbr.fit(X_train, np.ravel(y_train))\n",
        "predictions = model_gbr.predict(X_test)\n",
        "\n",
        "# root mean squared error\n",
        "print(\"Root Mean squared error: %.2f\" % sqrt(mean_squared_error(y_test, predictions)))"
      ],
      "metadata": {
        "colab": {
          "base_uri": "https://localhost:8080/"
        },
        "id": "mY7Pv4JVkS6T",
        "outputId": "dd4003d2-a7bb-4cbb-849c-6a0d539b6064"
      },
      "execution_count": null,
      "outputs": [
        {
          "output_type": "stream",
          "name": "stdout",
          "text": [
            "Root Mean squared error: 41.97\n"
          ]
        }
      ]
    },
    {
      "cell_type": "markdown",
      "source": [
        "**Observation**: The best metric was obtained using GBM. However, GBM isn’t a linear model and doesn’t offer a handy and lightweight regression equation. The previois time shifts require that we have total counts for the two previous hours of prediction. In this case, the access to live data is limited. In the process of web applications development, if the most accurate prediction comes from a complicated modeling technique, it just won’t translate well into a production pipeline"
      ],
      "metadata": {
        "id": "euieovabt8BB"
      }
    },
    {
      "cell_type": "markdown",
      "source": [
        "#5. Extracting Regression Coefficients from a Simple Model\n",
        "\n",
        "A linear regression model is not the most powerful model. However, it can determine data extremely simple and clear. During web applications development, we have to balance the best modeling scores with production realities. In this case, only four features will be used: “season”, “hr,” “holiday,” and “temp.” \n"
      ],
      "metadata": {
        "id": "hn9gTAUCvOCQ"
      }
    },
    {
      "cell_type": "code",
      "source": [
        "# prior hours\n",
        "np.mean(bikes_hour_df_shift['sum_hr_shift_1'])"
      ],
      "metadata": {
        "colab": {
          "base_uri": "https://localhost:8080/"
        },
        "id": "mWtXAtmdvMd3",
        "outputId": "d3cffc94-ffe5-4bfa-f906-70c458af6070"
      },
      "execution_count": null,
      "outputs": [
        {
          "output_type": "execute_result",
          "data": {
            "text/plain": [
              "189.47117044539073"
            ]
          },
          "metadata": {},
          "execution_count": 41
        }
      ]
    },
    {
      "cell_type": "markdown",
      "source": [
        "Fit the linear regression model for each feature."
      ],
      "metadata": {
        "id": "eKwIPczgwsBd"
      }
    },
    {
      "cell_type": "code",
      "source": [
        "features = ['hr', 'season', 'holiday', 'temp']\n",
        "from sklearn import linear_model\n",
        "from sklearn.metrics import r2_score\n",
        "\n",
        "# split data into train and test portions and model\n",
        "X_train, X_test, y_train, y_test = train_test_split(bike_df_model_ready[features], \n",
        "                                                 bike_df_model_ready[['cnt']], \n",
        "                                                 test_size=0.3, random_state=42)\n",
        "    \n",
        "for feat in features:\n",
        "    model_lr = linear_model.LinearRegression()\n",
        "    model_lr.fit(X_train[[feat]], y_train)\n",
        "    predictions = model_lr.predict(X_test[[feat]])\n",
        "    print('R^2 for %s is %f' % (feat, r2_score(y_test, predictions)))"
      ],
      "metadata": {
        "colab": {
          "base_uri": "https://localhost:8080/"
        },
        "id": "SgKz3szzwxkQ",
        "outputId": "40a628cd-e742-457d-829f-e14cc9bfe154"
      },
      "execution_count": null,
      "outputs": [
        {
          "output_type": "stream",
          "name": "stdout",
          "text": [
            "R^2 for hr is 0.159431\n",
            "R^2 for season is 0.025891\n",
            "R^2 for holiday is -0.001242\n",
            "R^2 for temp is 0.168313\n"
          ]
        }
      ]
    },
    {
      "cell_type": "markdown",
      "source": [
        "**Observation**: 'hr' and 'temp' represents better the target label than 'season' and 'holiday'"
      ],
      "metadata": {
        "id": "P666Db7UxERw"
      }
    },
    {
      "cell_type": "markdown",
      "source": [
        "Fit the linear regression model for each feature ussing dummy."
      ],
      "metadata": {
        "id": "xHJ2C6MgxblE"
      }
    },
    {
      "cell_type": "code",
      "source": [
        "# simple approach - make a copy for editing without affecting original\n",
        "bike_df_model_ready = bikes_hour_df[['hr', 'season', 'holiday', 'temp', 'cnt']].copy()\n",
        "\n",
        "outcome = 'cnt'\n",
        "\n",
        "# dummify categorical columns\n",
        "bike_df_model_ready = get_dummy(bike_df_model_ready,  drop_first = False, \n",
        "                                             make_na_col = False, target_columns = ['season'])\n",
        "\n",
        "features = [feat for feat in bike_df_model_ready if feat not in ['cnt']]  \n",
        "\n",
        "# split data into train and test portions and model\n",
        "X_train, X_test, y_train, y_test = train_test_split(bike_df_model_ready[features], \n",
        "                                                 bike_df_model_ready[['cnt']], \n",
        "                                                 test_size=0.3, random_state=42)\n",
        "from sklearn import linear_model\n",
        "model_lr = linear_model.LinearRegression()\n",
        "\n",
        "for feat in features:\n",
        "    model_lr = linear_model.LinearRegression()\n",
        "    # train the model on training set\n",
        "    model_lr.fit(X_train[[feat]], y_train)\n",
        "    predictions = model_lr.predict(X_test[[feat]])\n",
        "    \n",
        "    print('R^2 for %s is %f' % (feat, r2_score(y_test, predictions)))"
      ],
      "metadata": {
        "colab": {
          "base_uri": "https://localhost:8080/"
        },
        "id": "X-z5VrvzxlaR",
        "outputId": "dc812220-76c4-49a6-9322-00b9ca015ef3"
      },
      "execution_count": null,
      "outputs": [
        {
          "output_type": "stream",
          "name": "stdout",
          "text": [
            "R^2 for hr is 0.160129\n",
            "R^2 for holiday is -0.000566\n",
            "R^2 for temp is 0.166963\n",
            "R^2 for season_1 is 0.058428\n",
            "R^2 for season_2 is 0.004411\n",
            "R^2 for season_3 is 0.021628\n",
            "R^2 for season_4 is -0.001285\n"
          ]
        }
      ]
    },
    {
      "cell_type": "markdown",
      "source": [
        "Obtain the coefficients form the model."
      ],
      "metadata": {
        "id": "X4p-Pqd4x7vV"
      }
    },
    {
      "cell_type": "code",
      "source": [
        "model_lr.fit(X_train, y_train)\n",
        "predictions = model_lr.predict(X_test)\n",
        " \n",
        "print(\"Root Mean squared error: %.2f\" % sqrt(mean_squared_error(y_test, predictions)))\n",
        "print('\\n')\n",
        "\n",
        "# Intercept\n",
        "print('Intercept: %f' % model_lr.intercept_)\n",
        "\n",
        "# features with coefficients \n",
        "feature_coefficients  = pd.DataFrame({'coefficients':model_lr.coef_[0], \n",
        "                                    'features':X_train.columns.values})\n",
        "\n",
        "feature_coefficients.sort_values('coefficients')"
      ],
      "metadata": {
        "colab": {
          "base_uri": "https://localhost:8080/",
          "height": 342
        },
        "id": "5iaTqMSDyAAX",
        "outputId": "cea64134-1352-4012-ce9b-1596a489121a"
      },
      "execution_count": null,
      "outputs": [
        {
          "output_type": "stream",
          "name": "stdout",
          "text": [
            "Root Mean squared error: 147.86\n",
            "\n",
            "\n",
            "Intercept: -119.061877\n"
          ]
        },
        {
          "output_type": "execute_result",
          "data": {
            "text/plain": [
              "   coefficients  features\n",
              "5    -42.697445  season_3\n",
              "1    -29.096613   holiday\n",
              "4     -3.808865  season_2\n",
              "3      3.523756  season_1\n",
              "0      8.626766        hr\n",
              "6     42.982554  season_4\n",
              "2    425.523181      temp"
            ],
            "text/html": [
              "\n",
              "  <div id=\"df-f359d0d6-c883-4318-9991-b410c9211686\">\n",
              "    <div class=\"colab-df-container\">\n",
              "      <div>\n",
              "<style scoped>\n",
              "    .dataframe tbody tr th:only-of-type {\n",
              "        vertical-align: middle;\n",
              "    }\n",
              "\n",
              "    .dataframe tbody tr th {\n",
              "        vertical-align: top;\n",
              "    }\n",
              "\n",
              "    .dataframe thead th {\n",
              "        text-align: right;\n",
              "    }\n",
              "</style>\n",
              "<table border=\"1\" class=\"dataframe\">\n",
              "  <thead>\n",
              "    <tr style=\"text-align: right;\">\n",
              "      <th></th>\n",
              "      <th>coefficients</th>\n",
              "      <th>features</th>\n",
              "    </tr>\n",
              "  </thead>\n",
              "  <tbody>\n",
              "    <tr>\n",
              "      <th>5</th>\n",
              "      <td>-42.697445</td>\n",
              "      <td>season_3</td>\n",
              "    </tr>\n",
              "    <tr>\n",
              "      <th>1</th>\n",
              "      <td>-29.096613</td>\n",
              "      <td>holiday</td>\n",
              "    </tr>\n",
              "    <tr>\n",
              "      <th>4</th>\n",
              "      <td>-3.808865</td>\n",
              "      <td>season_2</td>\n",
              "    </tr>\n",
              "    <tr>\n",
              "      <th>3</th>\n",
              "      <td>3.523756</td>\n",
              "      <td>season_1</td>\n",
              "    </tr>\n",
              "    <tr>\n",
              "      <th>0</th>\n",
              "      <td>8.626766</td>\n",
              "      <td>hr</td>\n",
              "    </tr>\n",
              "    <tr>\n",
              "      <th>6</th>\n",
              "      <td>42.982554</td>\n",
              "      <td>season_4</td>\n",
              "    </tr>\n",
              "    <tr>\n",
              "      <th>2</th>\n",
              "      <td>425.523181</td>\n",
              "      <td>temp</td>\n",
              "    </tr>\n",
              "  </tbody>\n",
              "</table>\n",
              "</div>\n",
              "      <button class=\"colab-df-convert\" onclick=\"convertToInteractive('df-f359d0d6-c883-4318-9991-b410c9211686')\"\n",
              "              title=\"Convert this dataframe to an interactive table.\"\n",
              "              style=\"display:none;\">\n",
              "        \n",
              "  <svg xmlns=\"http://www.w3.org/2000/svg\" height=\"24px\"viewBox=\"0 0 24 24\"\n",
              "       width=\"24px\">\n",
              "    <path d=\"M0 0h24v24H0V0z\" fill=\"none\"/>\n",
              "    <path d=\"M18.56 5.44l.94 2.06.94-2.06 2.06-.94-2.06-.94-.94-2.06-.94 2.06-2.06.94zm-11 1L8.5 8.5l.94-2.06 2.06-.94-2.06-.94L8.5 2.5l-.94 2.06-2.06.94zm10 10l.94 2.06.94-2.06 2.06-.94-2.06-.94-.94-2.06-.94 2.06-2.06.94z\"/><path d=\"M17.41 7.96l-1.37-1.37c-.4-.4-.92-.59-1.43-.59-.52 0-1.04.2-1.43.59L10.3 9.45l-7.72 7.72c-.78.78-.78 2.05 0 2.83L4 21.41c.39.39.9.59 1.41.59.51 0 1.02-.2 1.41-.59l7.78-7.78 2.81-2.81c.8-.78.8-2.07 0-2.86zM5.41 20L4 18.59l7.72-7.72 1.47 1.35L5.41 20z\"/>\n",
              "  </svg>\n",
              "      </button>\n",
              "      \n",
              "  <style>\n",
              "    .colab-df-container {\n",
              "      display:flex;\n",
              "      flex-wrap:wrap;\n",
              "      gap: 12px;\n",
              "    }\n",
              "\n",
              "    .colab-df-convert {\n",
              "      background-color: #E8F0FE;\n",
              "      border: none;\n",
              "      border-radius: 50%;\n",
              "      cursor: pointer;\n",
              "      display: none;\n",
              "      fill: #1967D2;\n",
              "      height: 32px;\n",
              "      padding: 0 0 0 0;\n",
              "      width: 32px;\n",
              "    }\n",
              "\n",
              "    .colab-df-convert:hover {\n",
              "      background-color: #E2EBFA;\n",
              "      box-shadow: 0px 1px 2px rgba(60, 64, 67, 0.3), 0px 1px 3px 1px rgba(60, 64, 67, 0.15);\n",
              "      fill: #174EA6;\n",
              "    }\n",
              "\n",
              "    [theme=dark] .colab-df-convert {\n",
              "      background-color: #3B4455;\n",
              "      fill: #D2E3FC;\n",
              "    }\n",
              "\n",
              "    [theme=dark] .colab-df-convert:hover {\n",
              "      background-color: #434B5C;\n",
              "      box-shadow: 0px 1px 3px 1px rgba(0, 0, 0, 0.15);\n",
              "      filter: drop-shadow(0px 1px 2px rgba(0, 0, 0, 0.3));\n",
              "      fill: #FFFFFF;\n",
              "    }\n",
              "  </style>\n",
              "\n",
              "      <script>\n",
              "        const buttonEl =\n",
              "          document.querySelector('#df-f359d0d6-c883-4318-9991-b410c9211686 button.colab-df-convert');\n",
              "        buttonEl.style.display =\n",
              "          google.colab.kernel.accessAllowed ? 'block' : 'none';\n",
              "\n",
              "        async function convertToInteractive(key) {\n",
              "          const element = document.querySelector('#df-f359d0d6-c883-4318-9991-b410c9211686');\n",
              "          const dataTable =\n",
              "            await google.colab.kernel.invokeFunction('convertToInteractive',\n",
              "                                                     [key], {});\n",
              "          if (!dataTable) return;\n",
              "\n",
              "          const docLinkHtml = 'Like what you see? Visit the ' +\n",
              "            '<a target=\"_blank\" href=https://colab.research.google.com/notebooks/data_table.ipynb>data table notebook</a>'\n",
              "            + ' to learn more about interactive tables.';\n",
              "          element.innerHTML = '';\n",
              "          dataTable['output_type'] = 'display_data';\n",
              "          await google.colab.output.renderOutput(dataTable, element);\n",
              "          const docLink = document.createElement('div');\n",
              "          docLink.innerHTML = docLinkHtml;\n",
              "          element.appendChild(docLink);\n",
              "        }\n",
              "      </script>\n",
              "    </div>\n",
              "  </div>\n",
              "  "
            ]
          },
          "metadata": {},
          "execution_count": 44
        }
      ]
    },
    {
      "cell_type": "markdown",
      "source": [
        "Set up constants for previous coefficients."
      ],
      "metadata": {
        "id": "JzL-ej9RyoB8"
      }
    },
    {
      "cell_type": "code",
      "source": [
        "INTERCEPT = -119.061877\n",
        "COEF_HOLIDAY = -29.096613   # day is holiday or not\n",
        "COEF_HOUR = 8.626766        # hour (0 to 23)\n",
        "COEF_SEASON_1 = 3.523756    # 1:springer\n",
        "COEF_SEASON_2 = -3.808865   # 2:summer\n",
        "COEF_SEASON_3 = -42.697445  # 3:fall\n",
        "COEF_SEASON_4 = 42.982554   # 4:winter\n",
        "COEF_TEMP = 425.523181      # norm temp in Celsius -8 to +39"
      ],
      "metadata": {
        "id": "mAPnLYHtyq86"
      },
      "execution_count": null,
      "outputs": []
    },
    {
      "cell_type": "markdown",
      "source": [
        "Get the mean historical values in order to build our regression \n",
        "equation."
      ],
      "metadata": {
        "id": "wwdJBjS9zuqy"
      }
    },
    {
      "cell_type": "code",
      "source": [
        "np.mean(X_train['temp'])"
      ],
      "metadata": {
        "colab": {
          "base_uri": "https://localhost:8080/"
        },
        "id": "GDZKK1n7zwRS",
        "outputId": "7a628e43-ce93-4d2d-d9ae-a84c7804609c"
      },
      "execution_count": null,
      "outputs": [
        {
          "output_type": "execute_result",
          "data": {
            "text/plain": [
              "0.4980583641594739"
            ]
          },
          "metadata": {},
          "execution_count": 46
        }
      ]
    },
    {
      "cell_type": "code",
      "source": [
        "# mean values\n",
        "MEAN_HOLIDAY = 0.0275   # day is holiday or not\n",
        "MEAN_HOUR = 11.6        # hour (0 to 23)\n",
        "MEAN_SEASON_1 = 1       # 1:spring\n",
        "MEAN_SEASON_2 = 0       # 2:summer\n",
        "MEAN_SEASON_3 = 0       # 3:fall\n",
        "MEAN_SEASON_4 = 0       # 4:winter\n",
        "MEAN_TEMP = 0.4967      # norm temp in Celsius -8 to +39\n",
        "\n",
        "\n",
        "# try predicting something - 9AM with all other features held constant\n",
        "rental_counts = INTERCEPT + (MEAN_HOLIDAY * COEF_HOLIDAY) \\\n",
        "    + (9 * COEF_HOUR) \\\n",
        "    + (MEAN_SEASON_1 * COEF_SEASON_1)  + (MEAN_SEASON_2 * COEF_SEASON_2) \\\n",
        "    + (MEAN_SEASON_3 * COEF_SEASON_3)  + (MEAN_SEASON_4 * COEF_SEASON_4) \\\n",
        "    + (MEAN_TEMP * COEF_TEMP)\n",
        "\n",
        "print('Estimated bike rental count for selected parameters: %i' % int(rental_counts))   "
      ],
      "metadata": {
        "colab": {
          "base_uri": "https://localhost:8080/"
        },
        "id": "judUr-Egz3Z5",
        "outputId": "ca948b31-2ae8-439f-8a1c-bdbff8d501f9"
      },
      "execution_count": null,
      "outputs": [
        {
          "output_type": "stream",
          "name": "stdout",
          "text": [
            "Estimated bike rental count for selected parameters: 172\n"
          ]
        }
      ]
    },
    {
      "cell_type": "markdown",
      "source": [
        "Credits:\n",
        "\n",
        "[1] [Monetizing Machine Learning: Quickly Turn Python ML Ideas into Web Applications on the Serverless Cloud](https://www.amazon.com/Monetizing-Machine-Learning-Applications-Serverless/dp/1484238729)\n"
      ],
      "metadata": {
        "id": "W97yw-fTz5Yz"
      }
    }
  ]
}